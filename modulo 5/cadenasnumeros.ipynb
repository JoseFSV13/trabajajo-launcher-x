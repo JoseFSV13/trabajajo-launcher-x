{
 "cells": [
  {
   "cell_type": "code",
   "execution_count": 7,
   "metadata": {},
   "outputs": [
    {
     "name": "stdout",
     "output_type": "stream",
     "text": [
      "Jupiter\n",
      "Urano\n",
      "39446749\n",
      "24062516.89\n"
     ]
    }
   ],
   "source": [
    "nombre = str(input(\"Ingrese tu nombre de usuario\"))\n",
    "\n",
    "planeta1 = str(input(\"ingrese el nombre del primer planeta\"))\n",
    "print (planeta1)\n",
    "planetax1 = int(input(\"Ingrese el valor\"))\n",
    "\n",
    "planeta2 = str(input(\"Ingrese el segundo nombre del planeta\"))\n",
    "print (planeta2)\n",
    "planetax2 = int(input(\"ingrese el valor del planeta\"))\n",
    "\n",
    "Distancia = (planetax1 - planetax2)\n",
    "print (Distancia)\n",
    "millas = float(Distancia * 0.61)\n",
    "\n",
    "print (millas)\n",
    "\n"
   ]
  }
 ],
 "metadata": {
  "interpreter": {
   "hash": "b7bb83007995c7a14e1854c2f9a0dca32734cadda2ae62acd5bccc867983709f"
  },
  "kernelspec": {
   "display_name": "Python 3.10.2 64-bit",
   "language": "python",
   "name": "python3"
  },
  "language_info": {
   "codemirror_mode": {
    "name": "ipython",
    "version": 3
   },
   "file_extension": ".py",
   "mimetype": "text/x-python",
   "name": "python",
   "nbconvert_exporter": "python",
   "pygments_lexer": "ipython3",
   "version": "3.10.2"
  },
  "orig_nbformat": 4
 },
 "nbformat": 4,
 "nbformat_minor": 2
}
