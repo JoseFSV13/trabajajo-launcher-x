{
 "cells": [
  {
   "cell_type": "code",
   "execution_count": 31,
   "metadata": {},
   "outputs": [
    {
     "name": "stdout",
     "output_type": "stream",
     "text": [
      "628949330\n",
      "390577533.93\n",
      "jose\n"
     ]
    }
   ],
   "source": [
    "from math import dist\n",
    "Nombre = str (input(\"ingrese tu nombre \"))\n",
    "tierra = int (149597870)\n",
    "jupiter = int (778547200)\n",
    "\n",
    "distancia = int (jupiter - tierra)\n",
    "print (distancia)\n",
    "millas = float(distancia*0.621)  \n",
    "\n",
    "print  (millas )\n",
    "print (Nombre)"
   ]
  }
 ],
 "metadata": {
  "interpreter": {
   "hash": "b7bb83007995c7a14e1854c2f9a0dca32734cadda2ae62acd5bccc867983709f"
  },
  "kernelspec": {
   "display_name": "Python 3.10.2 64-bit",
   "language": "python",
   "name": "python3"
  },
  "language_info": {
   "codemirror_mode": {
    "name": "ipython",
    "version": 3
   },
   "file_extension": ".py",
   "mimetype": "text/x-python",
   "name": "python",
   "nbconvert_exporter": "python",
   "pygments_lexer": "ipython3",
   "version": "3.10.2"
  },
  "orig_nbformat": 4
 },
 "nbformat": 4,
 "nbformat_minor": 2
}
