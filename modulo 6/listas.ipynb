{
 "cells": [
  {
   "cell_type": "code",
   "execution_count": 1,
   "metadata": {},
   "outputs": [
    {
     "name": "stdout",
     "output_type": "stream",
     "text": [
      "el primer planeta es Mercurio\n",
      "el segundo planeta es Venus\n",
      "el tercer planeta es Tierra\n",
      "el cuarto planeta es Marte\n",
      "el quinto planeta es Jupiter\n",
      "el sexto planeta es Saturno\n",
      "el septimo planeta es Uranuo\n",
      "el octavo planeta es Neptuno\n",
      "el noveno planeta es pluton\n",
      "sabias que marte  es rojo su atmosfera planeta\n",
      "el numero de planetas son: 9\n",
      "No, eran solo: 8 en el sistema solar,pluton no es un planeta.\n",
      "el primer planeta es Mercurio\n",
      "el ultimo es Neptuno\n",
      "Jupiter es  5 planeta del sistema solar \n"
     ]
    }
   ],
   "source": [
    "planetas = ['Mercurio', 'Venus', 'Tierra', 'Marte', 'Jupiter', 'Saturno', 'Uranuo', 'Neptuno','pluton']\n",
    "print (\"el primer planeta es\", planetas[0])\n",
    "print (\"el segundo planeta es\", planetas[1])\n",
    "print (\"el tercer planeta es\", planetas[2])\n",
    "print (\"el cuarto planeta es\", planetas[3])\n",
    "print (\"el quinto planeta es\", planetas[4])\n",
    "print (\"el sexto planeta es\", planetas[5])\n",
    "print (\"el septimo planeta es\", planetas[6])\n",
    "print (\"el octavo planeta es\", planetas[7])\n",
    "print (\"el noveno planeta es\", planetas[8])\n",
    "\n",
    "planetas[3] = str(\"es rojo su atmosfera planeta\")\n",
    "print ('sabias que marte ',planetas[3] )\n",
    "\n",
    "numerodeplanetas = len(planetas)\n",
    "print ('el numero de planetas son:', numerodeplanetas)\n",
    "\n",
    "planetas.pop()\n",
    "numerodeplanetas = len(planetas)\n",
    "print('No, eran solo:', numerodeplanetas, 'en el sistema solar,pluton no es un planeta.')\n",
    "\n",
    "print( 'el primer planeta es',planetas[0])\n",
    "\n",
    "print('el ultimo es', planetas[-1])\n",
    "\n",
    "jupiterx = planetas.index('Jupiter')\n",
    "print('Jupiter es ', jupiterx + 1, 'planeta del sistema solar ')\n",
    "\n"
   ]
  }
 ],
 "metadata": {
  "interpreter": {
   "hash": "b7bb83007995c7a14e1854c2f9a0dca32734cadda2ae62acd5bccc867983709f"
  },
  "kernelspec": {
   "display_name": "Python 3.10.2 64-bit",
   "language": "python",
   "name": "python3"
  },
  "language_info": {
   "codemirror_mode": {
    "name": "ipython",
    "version": 3
   },
   "file_extension": ".py",
   "mimetype": "text/x-python",
   "name": "python",
   "nbconvert_exporter": "python",
   "pygments_lexer": "ipython3",
   "version": "3.10.2"
  },
  "orig_nbformat": 4
 },
 "nbformat": 4,
 "nbformat_minor": 2
}
