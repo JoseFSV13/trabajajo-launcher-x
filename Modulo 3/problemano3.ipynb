{
 "cells": [
  {
   "cell_type": "code",
   "execution_count": 4,
   "metadata": {},
   "outputs": [
    {
     "name": "stdout",
     "output_type": "stream",
     "text": [
      "no hay nada  :)\n"
     ]
    }
   ],
   "source": [
    "\n",
    "velocidadasteroide = int(input(\"Digite la velocidad que se aproxima el asteroide\"))\n",
    "tamanoasteroide = int( input(\"Digite el tamaño del asteroide\"))\n",
    "\n",
    "if velocidadasteroide > 25 and tamanoasteroide > 25:\n",
    "    print('un asteroide se dirige a la tierra')\n",
    "elif velocidadasteroide >= 20:\n",
    "    print('hay una luz sobre el cielo')\n",
    "elif tamanoasteroide < 25:\n",
    "    print('no hay nada  :)')\n",
    "else:\n",
    "    print('no hay nada :)')"
   ]
  }
 ],
 "metadata": {
  "interpreter": {
   "hash": "b7bb83007995c7a14e1854c2f9a0dca32734cadda2ae62acd5bccc867983709f"
  },
  "kernelspec": {
   "display_name": "Python 3.10.2 64-bit",
   "language": "python",
   "name": "python3"
  },
  "language_info": {
   "codemirror_mode": {
    "name": "ipython",
    "version": 3
   },
   "file_extension": ".py",
   "mimetype": "text/x-python",
   "name": "python",
   "nbconvert_exporter": "python",
   "pygments_lexer": "ipython3",
   "version": "3.10.2"
  },
  "orig_nbformat": 4
 },
 "nbformat": 4,
 "nbformat_minor": 2
}
