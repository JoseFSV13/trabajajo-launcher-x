{
 "cells": [
  {
   "cell_type": "code",
   "execution_count": 41,
   "metadata": {},
   "outputs": [
    {
     "name": "stdout",
     "output_type": "stream",
     "text": [
      "Marte tiene 2 lunas\n"
     ]
    }
   ],
   "source": [
    "demo = {'nombre': 'Marte','lunas': 2}\n",
    "\n",
    "print(f'{demo[\"nombre\"]} tiene {demo[\"lunas\"]} lunas')"
   ]
  },
  {
   "cell_type": "code",
   "execution_count": 13,
   "metadata": {},
   "outputs": [
    {
     "name": "stdout",
     "output_type": "stream",
     "text": [
      "17.833333333333332\n"
     ]
    }
   ],
   "source": [
    "planetaslunas = {\"mercurio\": 0,\"venus\": 0,\"tierra\": 1,\"marte\": 2,\"jupiter\": 79,\"saturno\": 82,\"urano\": 27,\"neptuno\": 14,\"pluton\": 5,'haumea': 2,'makemake': 1,'eris': 1}\n",
    "lunas = planetaslunas.values()\n",
    "\n",
    "planetas = len(planetaslunas.keys())\n",
    "\n",
    "totaldelunas = 0\n",
    "for luna in lunas:\n",
    "    totaldelunas = totaldelunas + luna\n",
    "    asumas = totaldelunas / planetas\n",
    "    \n",
    "print(asumas)\n"
   ]
  }
 ],
 "metadata": {
  "interpreter": {
   "hash": "b7bb83007995c7a14e1854c2f9a0dca32734cadda2ae62acd5bccc867983709f"
  },
  "kernelspec": {
   "display_name": "Python 3.10.2 64-bit",
   "language": "python",
   "name": "python3"
  },
  "language_info": {
   "codemirror_mode": {
    "name": "ipython",
    "version": 3
   },
   "file_extension": ".py",
   "mimetype": "text/x-python",
   "name": "python",
   "nbconvert_exporter": "python",
   "pygments_lexer": "ipython3",
   "version": "3.10.2"
  },
  "orig_nbformat": 4
 },
 "nbformat": 4,
 "nbformat_minor": 2
}
