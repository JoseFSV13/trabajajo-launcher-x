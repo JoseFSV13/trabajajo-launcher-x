{
 "cells": [
  {
   "cell_type": "code",
   "execution_count": 2,
   "metadata": {},
   "outputs": [
    {
     "name": "stdout",
     "output_type": "stream",
     "text": [
      "Esto son los planetas del sistema solar son:\n"
     ]
    }
   ],
   "source": [
    "Nplanetas = ''\n",
    "planetas = []\n",
    "\n",
    "while Nplanetas.lower() != 'alto':\n",
    "  \n",
    "    if Nplanetas :\n",
    "       planetas.append(Nplanetas)\n",
    "    Nplanetas = input(\"Digite un planeta\")   \n",
    "        \n",
    "  \n",
    "\n",
    "\n",
    "for Planetass in planetas:\n",
    "    print(Planetass)\n",
    "print(\"Esto son los planetas del sistema solar son:\")  "
   ]
  }
 ],
 "metadata": {
  "interpreter": {
   "hash": "b7bb83007995c7a14e1854c2f9a0dca32734cadda2ae62acd5bccc867983709f"
  },
  "kernelspec": {
   "display_name": "Python 3.10.2 64-bit",
   "language": "python",
   "name": "python3"
  },
  "language_info": {
   "codemirror_mode": {
    "name": "ipython",
    "version": 3
   },
   "file_extension": ".py",
   "mimetype": "text/x-python",
   "name": "python",
   "nbconvert_exporter": "python",
   "pygments_lexer": "ipython3",
   "version": "3.10.2"
  },
  "orig_nbformat": 4
 },
 "nbformat": 4,
 "nbformat_minor": 2
}
