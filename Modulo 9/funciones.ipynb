{
 "cells": [
  {
   "cell_type": "code",
   "execution_count": null,
   "metadata": {},
   "outputs": [],
   "source": [
    "def generarreporte(tanke, tankeexterno, hydrogenotanke):\n",
    "    eltotal = (tanke + tankeexterno + hydrogenotanke) / 3\n",
    "    return f\"\"\"reporte completo:\n",
    "    Total : {eltotal}%\n",
    "    tanque: {tanke}%\n",
    "    tanque externo: {tankeexterno}%\n",
    "    Tanque de hidrogeno: {hydrogenotanke}% \n",
    "    \"\"\"\n",
    "   print(generarreporte(80, 70, 85))\n",
    "\n",
    "def totalidad(values):\n",
    "    total = sum(values)\n",
    "    equipos = len(values)\n",
    "    return total / equipos\n",
    "\n",
    "   totalidad([80, 85, 81]) \n",
    "\n",
    "def generarreporte(tanke, tankeexterno, hydrogenotanke):\n",
    "    return f\"\"\"reporte completo:\n",
    "    Total : {average([main_tank, external_tank, hydrogen_tank])}%\n",
    "    tanke: {tanke}%\n",
    "    Tanke externo: {tankeexterno}%\n",
    "    Hydrogen tank: {hydrogenotanke}% \n",
    "    \"\"\"\n",
    "  print(generarreporte(88, 76, 70))"
   ]
  }
 ],
 "metadata": {
  "language_info": {
   "name": "python"
  },
  "orig_nbformat": 4
 },
 "nbformat": 4,
 "nbformat_minor": 2
}
