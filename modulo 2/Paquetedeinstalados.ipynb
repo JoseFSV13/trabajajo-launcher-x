{
 "cells": [
  {
   "cell_type": "code",
   "execution_count": 3,
   "metadata": {},
   "outputs": [
    {
     "name": "stdout",
     "output_type": "stream",
     "text": [
      "2022-02-11 21:04:18.848576\n",
      "2022-03-18 10:04:18.848576\n"
     ]
    }
   ],
   "source": [
    " from datetime import *\n",
    " from dateutil.relativedelta import *\n",
    " now = datetime.now()\n",
    " print(now)\n",
    "\n",
    " now = now + relativedelta(months=1, weeks=1, hour=10)\n",
    "\n",
    " print(now)"
   ]
  }
 ],
 "metadata": {
  "interpreter": {
   "hash": "b7bb83007995c7a14e1854c2f9a0dca32734cadda2ae62acd5bccc867983709f"
  },
  "kernelspec": {
   "display_name": "Python 3.10.2 64-bit",
   "language": "python",
   "name": "python3"
  },
  "language_info": {
   "codemirror_mode": {
    "name": "ipython",
    "version": 3
   },
   "file_extension": ".py",
   "mimetype": "text/x-python",
   "name": "python",
   "nbconvert_exporter": "python",
   "pygments_lexer": "ipython3",
   "version": "3.10.2"
  },
  "orig_nbformat": 4
 },
 "nbformat": 4,
 "nbformat_minor": 2
}
